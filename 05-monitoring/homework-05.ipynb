{
 "cells": [
  {
   "cell_type": "code",
   "execution_count": 1,
   "id": "a58c5a04-dede-4bfe-9539-85be6a1e82ce",
   "metadata": {},
   "outputs": [
    {
     "name": "stderr",
     "output_type": "stream",
     "text": [
      "Downloading: 168it [00:06, 26.57it/s]"
     ]
    },
    {
     "name": "stdout",
     "output_type": "stream",
     "text": [
      "Q1 Answer - Raw Data Shape: (57457, 20)\n"
     ]
    },
    {
     "name": "stderr",
     "output_type": "stream",
     "text": [
      "\n"
     ]
    }
   ],
   "source": [
    "import pandas as pd\n",
    "import requests\n",
    "from tqdm import tqdm\n",
    "\n",
    "# Step 1: Download data\n",
    "file_name = \"green_tripdata_2024-03.parquet\"\n",
    "url = f\"https://d37ci6vzurychx.cloudfront.net/trip-data/{file_name}\"\n",
    "save_path = f\"data/{file_name}\"\n",
    "\n",
    "# Create data folder if not exists\n",
    "import os\n",
    "os.makedirs(\"data\", exist_ok=True)\n",
    "\n",
    "# Download\n",
    "resp = requests.get(url, stream=True)\n",
    "with open(save_path, \"wb\") as f:\n",
    "    for chunk in tqdm(resp.iter_content(chunk_size=8192), desc=\"Downloading\"):\n",
    "        f.write(chunk)\n",
    "\n",
    "# Step 2: Load and print shape\n",
    "df = pd.read_parquet(save_path)\n",
    "print(\"Q1 Answer - Raw Data Shape:\", df.shape)"
   ]
  },
  {
   "cell_type": "code",
   "execution_count": 3,
   "id": "c957b8db-62ab-4df3-ac83-ef5a0b2e598a",
   "metadata": {},
   "outputs": [
    {
     "name": "stderr",
     "output_type": "stream",
     "text": [
      "/home/dhanraj/mlops-zoomcamp/05-monitoring/venv/lib/python3.10/site-packages/evidently/core/datasets.py:990: RuntimeWarning: invalid value encountered in scalar divide\n",
      "  infinite=StatCountValue(infinite_count, infinite_count / data.count()),\n"
     ]
    }
   ],
   "source": [
    "from evidently import Report\n",
    "from evidently.metrics import QuantileValue, RowCount\n",
    "\n",
    "# Create report with extra metrics\n",
    "report = Report(metrics=[\n",
    "    QuantileValue(column=\"fare_amount\", quantile=0.5),\n",
    "])\n",
    "\n",
    "# Run on full dataset (since no reference is required)\n",
    "repo = report.run(current_data=df)\n",
    "repo.save_html(\"report_q2.html\")"
   ]
  },
  {
   "cell_type": "code",
   "execution_count": 4,
   "id": "965cba18-6c90-4233-b7a1-2ddab3ac1dae",
   "metadata": {},
   "outputs": [
    {
     "name": "stderr",
     "output_type": "stream",
     "text": [
      "/home/dhanraj/mlops-zoomcamp/05-monitoring/venv/lib/python3.10/site-packages/evidently/core/datasets.py:990: RuntimeWarning:\n",
      "\n",
      "invalid value encountered in scalar divide\n",
      "\n",
      "/home/dhanraj/mlops-zoomcamp/05-monitoring/venv/lib/python3.10/site-packages/evidently/core/datasets.py:990: RuntimeWarning:\n",
      "\n",
      "invalid value encountered in scalar divide\n",
      "\n",
      "/home/dhanraj/mlops-zoomcamp/05-monitoring/venv/lib/python3.10/site-packages/evidently/core/datasets.py:990: RuntimeWarning:\n",
      "\n",
      "invalid value encountered in scalar divide\n",
      "\n",
      "/home/dhanraj/mlops-zoomcamp/05-monitoring/venv/lib/python3.10/site-packages/evidently/core/datasets.py:990: RuntimeWarning:\n",
      "\n",
      "invalid value encountered in scalar divide\n",
      "\n",
      "/home/dhanraj/mlops-zoomcamp/05-monitoring/venv/lib/python3.10/site-packages/evidently/core/datasets.py:990: RuntimeWarning:\n",
      "\n",
      "invalid value encountered in scalar divide\n",
      "\n"
     ]
    },
    {
     "name": "stdout",
     "output_type": "stream",
     "text": [
      "2024-03-01: 13.5\n",
      "2024-03-02: 13.5\n",
      "2024-03-03: 14.2\n",
      "2024-03-04: 12.8\n",
      "2024-03-05: 13.5\n",
      "2024-03-06: 12.8\n"
     ]
    },
    {
     "name": "stderr",
     "output_type": "stream",
     "text": [
      "/home/dhanraj/mlops-zoomcamp/05-monitoring/venv/lib/python3.10/site-packages/evidently/core/datasets.py:990: RuntimeWarning:\n",
      "\n",
      "invalid value encountered in scalar divide\n",
      "\n",
      "/home/dhanraj/mlops-zoomcamp/05-monitoring/venv/lib/python3.10/site-packages/evidently/core/datasets.py:990: RuntimeWarning:\n",
      "\n",
      "invalid value encountered in scalar divide\n",
      "\n",
      "/home/dhanraj/mlops-zoomcamp/05-monitoring/venv/lib/python3.10/site-packages/evidently/core/datasets.py:990: RuntimeWarning:\n",
      "\n",
      "invalid value encountered in scalar divide\n",
      "\n",
      "/home/dhanraj/mlops-zoomcamp/05-monitoring/venv/lib/python3.10/site-packages/evidently/core/datasets.py:990: RuntimeWarning:\n",
      "\n",
      "invalid value encountered in scalar divide\n",
      "\n",
      "/home/dhanraj/mlops-zoomcamp/05-monitoring/venv/lib/python3.10/site-packages/evidently/core/datasets.py:990: RuntimeWarning:\n",
      "\n",
      "invalid value encountered in scalar divide\n",
      "\n",
      "/home/dhanraj/mlops-zoomcamp/05-monitoring/venv/lib/python3.10/site-packages/evidently/core/datasets.py:990: RuntimeWarning:\n",
      "\n",
      "invalid value encountered in scalar divide\n",
      "\n",
      "/home/dhanraj/mlops-zoomcamp/05-monitoring/venv/lib/python3.10/site-packages/evidently/core/datasets.py:990: RuntimeWarning:\n",
      "\n",
      "invalid value encountered in scalar divide\n",
      "\n"
     ]
    },
    {
     "name": "stdout",
     "output_type": "stream",
     "text": [
      "2024-03-07: 13.5\n",
      "2024-03-08: 13.5\n",
      "2024-03-09: 13.5\n",
      "2024-03-10: 14.2\n",
      "2024-03-11: 12.8\n",
      "2024-03-12: 13.5\n",
      "2024-03-13: 13.5\n"
     ]
    },
    {
     "name": "stderr",
     "output_type": "stream",
     "text": [
      "/home/dhanraj/mlops-zoomcamp/05-monitoring/venv/lib/python3.10/site-packages/evidently/core/datasets.py:990: RuntimeWarning:\n",
      "\n",
      "invalid value encountered in scalar divide\n",
      "\n",
      "/home/dhanraj/mlops-zoomcamp/05-monitoring/venv/lib/python3.10/site-packages/evidently/core/datasets.py:990: RuntimeWarning:\n",
      "\n",
      "invalid value encountered in scalar divide\n",
      "\n",
      "/home/dhanraj/mlops-zoomcamp/05-monitoring/venv/lib/python3.10/site-packages/evidently/core/datasets.py:990: RuntimeWarning:\n",
      "\n",
      "invalid value encountered in scalar divide\n",
      "\n",
      "/home/dhanraj/mlops-zoomcamp/05-monitoring/venv/lib/python3.10/site-packages/evidently/core/datasets.py:990: RuntimeWarning:\n",
      "\n",
      "invalid value encountered in scalar divide\n",
      "\n",
      "/home/dhanraj/mlops-zoomcamp/05-monitoring/venv/lib/python3.10/site-packages/evidently/core/datasets.py:990: RuntimeWarning:\n",
      "\n",
      "invalid value encountered in scalar divide\n",
      "\n",
      "/home/dhanraj/mlops-zoomcamp/05-monitoring/venv/lib/python3.10/site-packages/evidently/core/datasets.py:990: RuntimeWarning:\n",
      "\n",
      "invalid value encountered in scalar divide\n",
      "\n",
      "/home/dhanraj/mlops-zoomcamp/05-monitoring/venv/lib/python3.10/site-packages/evidently/core/datasets.py:990: RuntimeWarning:\n",
      "\n",
      "invalid value encountered in scalar divide\n",
      "\n"
     ]
    },
    {
     "name": "stdout",
     "output_type": "stream",
     "text": [
      "2024-03-14: 14.2\n",
      "2024-03-15: 13.5\n",
      "2024-03-16: 14.2\n",
      "2024-03-17: 13.5\n",
      "2024-03-18: 13.5\n",
      "2024-03-19: 13.5\n",
      "2024-03-20: 12.8\n",
      "2024-03-21: 13.5\n"
     ]
    },
    {
     "name": "stderr",
     "output_type": "stream",
     "text": [
      "/home/dhanraj/mlops-zoomcamp/05-monitoring/venv/lib/python3.10/site-packages/evidently/core/datasets.py:990: RuntimeWarning:\n",
      "\n",
      "invalid value encountered in scalar divide\n",
      "\n",
      "/home/dhanraj/mlops-zoomcamp/05-monitoring/venv/lib/python3.10/site-packages/evidently/core/datasets.py:990: RuntimeWarning:\n",
      "\n",
      "invalid value encountered in scalar divide\n",
      "\n",
      "/home/dhanraj/mlops-zoomcamp/05-monitoring/venv/lib/python3.10/site-packages/evidently/core/datasets.py:990: RuntimeWarning:\n",
      "\n",
      "invalid value encountered in scalar divide\n",
      "\n",
      "/home/dhanraj/mlops-zoomcamp/05-monitoring/venv/lib/python3.10/site-packages/evidently/core/datasets.py:990: RuntimeWarning:\n",
      "\n",
      "invalid value encountered in scalar divide\n",
      "\n",
      "/home/dhanraj/mlops-zoomcamp/05-monitoring/venv/lib/python3.10/site-packages/evidently/core/datasets.py:990: RuntimeWarning:\n",
      "\n",
      "invalid value encountered in scalar divide\n",
      "\n",
      "/home/dhanraj/mlops-zoomcamp/05-monitoring/venv/lib/python3.10/site-packages/evidently/core/datasets.py:990: RuntimeWarning:\n",
      "\n",
      "invalid value encountered in scalar divide\n",
      "\n",
      "/home/dhanraj/mlops-zoomcamp/05-monitoring/venv/lib/python3.10/site-packages/evidently/core/datasets.py:990: RuntimeWarning:\n",
      "\n",
      "invalid value encountered in scalar divide\n",
      "\n"
     ]
    },
    {
     "name": "stdout",
     "output_type": "stream",
     "text": [
      "2024-03-22: 13.5\n",
      "2024-03-23: 12.8\n",
      "2024-03-24: 14.2\n",
      "2024-03-25: 13.5\n",
      "2024-03-26: 13.5\n",
      "2024-03-27: 13.5\n",
      "2024-03-28: 13.5\n",
      "2024-03-29: 13.5\n",
      "2024-03-30: 14.2\n",
      "2024-03-31: 13.5\n",
      "Q3 Answer - Max daily median fare_amount: 14.2\n"
     ]
    },
    {
     "name": "stderr",
     "output_type": "stream",
     "text": [
      "/home/dhanraj/mlops-zoomcamp/05-monitoring/venv/lib/python3.10/site-packages/evidently/core/datasets.py:990: RuntimeWarning:\n",
      "\n",
      "invalid value encountered in scalar divide\n",
      "\n",
      "/home/dhanraj/mlops-zoomcamp/05-monitoring/venv/lib/python3.10/site-packages/evidently/core/datasets.py:990: RuntimeWarning:\n",
      "\n",
      "invalid value encountered in scalar divide\n",
      "\n",
      "/home/dhanraj/mlops-zoomcamp/05-monitoring/venv/lib/python3.10/site-packages/evidently/core/datasets.py:990: RuntimeWarning:\n",
      "\n",
      "invalid value encountered in scalar divide\n",
      "\n",
      "/home/dhanraj/mlops-zoomcamp/05-monitoring/venv/lib/python3.10/site-packages/evidently/core/datasets.py:990: RuntimeWarning:\n",
      "\n",
      "invalid value encountered in scalar divide\n",
      "\n",
      "/home/dhanraj/mlops-zoomcamp/05-monitoring/venv/lib/python3.10/site-packages/evidently/core/datasets.py:990: RuntimeWarning:\n",
      "\n",
      "invalid value encountered in scalar divide\n",
      "\n"
     ]
    }
   ],
   "source": [
    "from datetime import datetime, timedelta\n",
    "\n",
    "quantiles = []\n",
    "\n",
    "for day in range(1, 32):\n",
    "    day_start = pd.to_datetime(f\"2024-03-{day:02d}\")\n",
    "    day_end = day_start + pd.Timedelta(days=1)\n",
    "    daily_data = df[df.lpep_pickup_datetime.between(day_start, day_end, inclusive=\"left\")]\n",
    "\n",
    "    if daily_data.empty:\n",
    "        continue\n",
    "\n",
    "    daily_report = Report(metrics=[\n",
    "        QuantileValue(column=\"fare_amount\", quantile=0.5)\n",
    "    ])\n",
    "    repo = daily_report.run(current_data=daily_data)\n",
    "    val = repo.dict()['metrics'][0]['value']\n",
    "    print(f\"{day_start.date()}: {val}\")\n",
    "    quantiles.append(val)\n",
    "\n",
    "print(\"Q3 Answer - Max daily median fare_amount:\", max(quantiles))\n"
   ]
  },
  {
   "cell_type": "code",
   "execution_count": 8,
   "id": "a7e60dd8-80d7-4397-aa1f-2e0df9f23929",
   "metadata": {},
   "outputs": [],
   "source": [
    "from evidently.ui.workspace import Workspace\n",
    "from evidently.sdk.panels import text_panel, line_plot_panel, PanelMetric\n",
    "\n",
    "# Initialize workspace and project\n",
    "ws = Workspace(\"workspace\")\n",
    "project = ws.create_project(\"nyc-taxi-monitoring\")\n",
    "project.description = \"Monitoring fare amount median and row counts\"\n",
    "\n",
    "# Add panels to dashboard\n",
    "\n",
    "# 1. Title\n",
    "project.dashboard.add_panel(\n",
    "    text_panel(title=\"🚕 NYC Taxi Dashboard\")\n",
    ")\n",
    "\n",
    "# 2. Fare amount median (quantile 0.5)\n",
    "project.dashboard.add_panel(\n",
    "    line_plot_panel(\n",
    "        title=\"fare_amount median (q=0.5)\",\n",
    "        values=[\n",
    "            PanelMetric(\n",
    "                metric=\"QuantileValue\",                      # must match metric name\n",
    "                metric_labels={\"column\": \"fare_amount\", \"quantile\": \"0.5\"},\n",
    "                legend=\"Median Fare\"\n",
    "            )\n",
    "        ],\n",
    "        size=\"half\"\n",
    "    )\n",
    ")\n",
    "\n",
    "# 3. Row count\n",
    "project.dashboard.add_panel(\n",
    "    line_plot_panel(\n",
    "        title=\"Row Count\",\n",
    "        values=[\n",
    "            PanelMetric(\n",
    "                metric=\"RowCount\",\n",
    "                legend=\"Total rows\"\n",
    "            )\n",
    "        ],\n",
    "        size=\"half\"\n",
    "    )\n",
    ")\n",
    "\n",
    "# Save project/dashboard\n",
    "project.save()"
   ]
  },
  {
   "cell_type": "code",
   "execution_count": 9,
   "id": "77ab07d5-0c2f-4cf2-af75-858b7113c978",
   "metadata": {},
   "outputs": [
    {
     "name": "stderr",
     "output_type": "stream",
     "text": [
      "/home/dhanraj/mlops-zoomcamp/05-monitoring/venv/lib/python3.10/site-packages/evidently/core/datasets.py:990: RuntimeWarning:\n",
      "\n",
      "invalid value encountered in scalar divide\n",
      "\n",
      "/home/dhanraj/mlops-zoomcamp/05-monitoring/venv/lib/python3.10/site-packages/evidently/core/datasets.py:990: RuntimeWarning:\n",
      "\n",
      "invalid value encountered in scalar divide\n",
      "\n",
      "/home/dhanraj/mlops-zoomcamp/05-monitoring/venv/lib/python3.10/site-packages/evidently/core/datasets.py:990: RuntimeWarning:\n",
      "\n",
      "invalid value encountered in scalar divide\n",
      "\n"
     ]
    },
    {
     "name": "stdout",
     "output_type": "stream",
     "text": [
      "📅 Logged run for 2024-03-01, rows: 2095\n",
      "📅 Logged run for 2024-03-02, rows: 1638\n",
      "📅 Logged run for 2024-03-03, rows: 1460\n",
      "📅 Logged run for 2024-03-04, rows: 1913\n",
      "📅 Logged run for 2024-03-05, rows: 1987\n"
     ]
    },
    {
     "name": "stderr",
     "output_type": "stream",
     "text": [
      "/home/dhanraj/mlops-zoomcamp/05-monitoring/venv/lib/python3.10/site-packages/evidently/core/datasets.py:990: RuntimeWarning:\n",
      "\n",
      "invalid value encountered in scalar divide\n",
      "\n",
      "/home/dhanraj/mlops-zoomcamp/05-monitoring/venv/lib/python3.10/site-packages/evidently/core/datasets.py:990: RuntimeWarning:\n",
      "\n",
      "invalid value encountered in scalar divide\n",
      "\n",
      "/home/dhanraj/mlops-zoomcamp/05-monitoring/venv/lib/python3.10/site-packages/evidently/core/datasets.py:990: RuntimeWarning:\n",
      "\n",
      "invalid value encountered in scalar divide\n",
      "\n",
      "/home/dhanraj/mlops-zoomcamp/05-monitoring/venv/lib/python3.10/site-packages/evidently/core/datasets.py:990: RuntimeWarning:\n",
      "\n",
      "invalid value encountered in scalar divide\n",
      "\n",
      "/home/dhanraj/mlops-zoomcamp/05-monitoring/venv/lib/python3.10/site-packages/evidently/core/datasets.py:990: RuntimeWarning:\n",
      "\n",
      "invalid value encountered in scalar divide\n",
      "\n"
     ]
    },
    {
     "name": "stdout",
     "output_type": "stream",
     "text": [
      "📅 Logged run for 2024-03-06, rows: 2286\n",
      "📅 Logged run for 2024-03-07, rows: 2150\n",
      "📅 Logged run for 2024-03-08, rows: 2085\n",
      "📅 Logged run for 2024-03-09, rows: 1769\n",
      "📅 Logged run for 2024-03-10, rows: 1430\n",
      "📅 Logged run for 2024-03-11, rows: 1839\n"
     ]
    },
    {
     "name": "stderr",
     "output_type": "stream",
     "text": [
      "/home/dhanraj/mlops-zoomcamp/05-monitoring/venv/lib/python3.10/site-packages/evidently/core/datasets.py:990: RuntimeWarning:\n",
      "\n",
      "invalid value encountered in scalar divide\n",
      "\n",
      "/home/dhanraj/mlops-zoomcamp/05-monitoring/venv/lib/python3.10/site-packages/evidently/core/datasets.py:990: RuntimeWarning:\n",
      "\n",
      "invalid value encountered in scalar divide\n",
      "\n",
      "/home/dhanraj/mlops-zoomcamp/05-monitoring/venv/lib/python3.10/site-packages/evidently/core/datasets.py:990: RuntimeWarning:\n",
      "\n",
      "invalid value encountered in scalar divide\n",
      "\n",
      "/home/dhanraj/mlops-zoomcamp/05-monitoring/venv/lib/python3.10/site-packages/evidently/core/datasets.py:990: RuntimeWarning:\n",
      "\n",
      "invalid value encountered in scalar divide\n",
      "\n",
      "/home/dhanraj/mlops-zoomcamp/05-monitoring/venv/lib/python3.10/site-packages/evidently/core/datasets.py:990: RuntimeWarning:\n",
      "\n",
      "invalid value encountered in scalar divide\n",
      "\n"
     ]
    },
    {
     "name": "stdout",
     "output_type": "stream",
     "text": [
      "📅 Logged run for 2024-03-12, rows: 1907\n",
      "📅 Logged run for 2024-03-13, rows: 2086\n",
      "📅 Logged run for 2024-03-14, rows: 2108\n",
      "📅 Logged run for 2024-03-15, rows: 2036\n",
      "📅 Logged run for 2024-03-16, rows: 1684\n",
      "📅 Logged run for 2024-03-17, rows: 1426\n"
     ]
    },
    {
     "name": "stderr",
     "output_type": "stream",
     "text": [
      "/home/dhanraj/mlops-zoomcamp/05-monitoring/venv/lib/python3.10/site-packages/evidently/core/datasets.py:990: RuntimeWarning:\n",
      "\n",
      "invalid value encountered in scalar divide\n",
      "\n",
      "/home/dhanraj/mlops-zoomcamp/05-monitoring/venv/lib/python3.10/site-packages/evidently/core/datasets.py:990: RuntimeWarning:\n",
      "\n",
      "invalid value encountered in scalar divide\n",
      "\n",
      "/home/dhanraj/mlops-zoomcamp/05-monitoring/venv/lib/python3.10/site-packages/evidently/core/datasets.py:990: RuntimeWarning:\n",
      "\n",
      "invalid value encountered in scalar divide\n",
      "\n",
      "/home/dhanraj/mlops-zoomcamp/05-monitoring/venv/lib/python3.10/site-packages/evidently/core/datasets.py:990: RuntimeWarning:\n",
      "\n",
      "invalid value encountered in scalar divide\n",
      "\n",
      "/home/dhanraj/mlops-zoomcamp/05-monitoring/venv/lib/python3.10/site-packages/evidently/core/datasets.py:990: RuntimeWarning:\n",
      "\n",
      "invalid value encountered in scalar divide\n",
      "\n",
      "/home/dhanraj/mlops-zoomcamp/05-monitoring/venv/lib/python3.10/site-packages/evidently/core/datasets.py:990: RuntimeWarning:\n",
      "\n",
      "invalid value encountered in scalar divide\n",
      "\n"
     ]
    },
    {
     "name": "stdout",
     "output_type": "stream",
     "text": [
      "📅 Logged run for 2024-03-18, rows: 1880\n",
      "📅 Logged run for 2024-03-19, rows: 1985\n",
      "📅 Logged run for 2024-03-20, rows: 2052\n",
      "📅 Logged run for 2024-03-21, rows: 2119\n",
      "📅 Logged run for 2024-03-22, rows: 1953\n",
      "📅 Logged run for 2024-03-23, rows: 1389\n"
     ]
    },
    {
     "name": "stderr",
     "output_type": "stream",
     "text": [
      "/home/dhanraj/mlops-zoomcamp/05-monitoring/venv/lib/python3.10/site-packages/evidently/core/datasets.py:990: RuntimeWarning:\n",
      "\n",
      "invalid value encountered in scalar divide\n",
      "\n",
      "/home/dhanraj/mlops-zoomcamp/05-monitoring/venv/lib/python3.10/site-packages/evidently/core/datasets.py:990: RuntimeWarning:\n",
      "\n",
      "invalid value encountered in scalar divide\n",
      "\n",
      "/home/dhanraj/mlops-zoomcamp/05-monitoring/venv/lib/python3.10/site-packages/evidently/core/datasets.py:990: RuntimeWarning:\n",
      "\n",
      "invalid value encountered in scalar divide\n",
      "\n",
      "/home/dhanraj/mlops-zoomcamp/05-monitoring/venv/lib/python3.10/site-packages/evidently/core/datasets.py:990: RuntimeWarning:\n",
      "\n",
      "invalid value encountered in scalar divide\n",
      "\n",
      "/home/dhanraj/mlops-zoomcamp/05-monitoring/venv/lib/python3.10/site-packages/evidently/core/datasets.py:990: RuntimeWarning:\n",
      "\n",
      "invalid value encountered in scalar divide\n",
      "\n",
      "/home/dhanraj/mlops-zoomcamp/05-monitoring/venv/lib/python3.10/site-packages/evidently/core/datasets.py:990: RuntimeWarning:\n",
      "\n",
      "invalid value encountered in scalar divide\n",
      "\n"
     ]
    },
    {
     "name": "stdout",
     "output_type": "stream",
     "text": [
      "📅 Logged run for 2024-03-24, rows: 1383\n",
      "📅 Logged run for 2024-03-25, rows: 1801\n",
      "📅 Logged run for 2024-03-26, rows: 1947\n",
      "📅 Logged run for 2024-03-27, rows: 2035\n",
      "📅 Logged run for 2024-03-28, rows: 2144\n",
      "📅 Logged run for 2024-03-29, rows: 1836\n"
     ]
    },
    {
     "name": "stderr",
     "output_type": "stream",
     "text": [
      "/home/dhanraj/mlops-zoomcamp/05-monitoring/venv/lib/python3.10/site-packages/evidently/core/datasets.py:990: RuntimeWarning:\n",
      "\n",
      "invalid value encountered in scalar divide\n",
      "\n",
      "/home/dhanraj/mlops-zoomcamp/05-monitoring/venv/lib/python3.10/site-packages/evidently/core/datasets.py:990: RuntimeWarning:\n",
      "\n",
      "invalid value encountered in scalar divide\n",
      "\n",
      "/home/dhanraj/mlops-zoomcamp/05-monitoring/venv/lib/python3.10/site-packages/evidently/core/datasets.py:990: RuntimeWarning:\n",
      "\n",
      "invalid value encountered in scalar divide\n",
      "\n",
      "/home/dhanraj/mlops-zoomcamp/05-monitoring/venv/lib/python3.10/site-packages/evidently/core/datasets.py:990: RuntimeWarning:\n",
      "\n",
      "invalid value encountered in scalar divide\n",
      "\n",
      "/home/dhanraj/mlops-zoomcamp/05-monitoring/venv/lib/python3.10/site-packages/evidently/core/datasets.py:990: RuntimeWarning:\n",
      "\n",
      "invalid value encountered in scalar divide\n",
      "\n",
      "/home/dhanraj/mlops-zoomcamp/05-monitoring/venv/lib/python3.10/site-packages/evidently/core/datasets.py:990: RuntimeWarning:\n",
      "\n",
      "invalid value encountered in scalar divide\n",
      "\n"
     ]
    },
    {
     "name": "stdout",
     "output_type": "stream",
     "text": [
      "📅 Logged run for 2024-03-30, rows: 1549\n",
      "📅 Logged run for 2024-03-31, rows: 1475\n"
     ]
    }
   ],
   "source": [
    "for day in range(1, 32):\n",
    "    start = pd.Timestamp(f\"2024-03-{day:02d}\")\n",
    "    end = start + pd.Timedelta(days=1)\n",
    "    daily_df = df[df.lpep_pickup_datetime.between(start, end, inclusive=\"left\")]\n",
    "\n",
    "    if daily_df.empty:\n",
    "        continue  # skip empty days\n",
    "\n",
    "    daily_report = Report(metrics=[\n",
    "        RowCount(),\n",
    "        QuantileValue(column=\"fare_amount\", quantile=0.5)\n",
    "    ])\n",
    "    snapshot = daily_report.run(current_data=daily_df, timestamp=start)\n",
    "\n",
    "    ws.add_run(project.id, snapshot)\n",
    "    print(f\"📅 Logged run for {start.date()}, rows: {len(daily_df)}\")"
   ]
  },
  {
   "cell_type": "code",
   "execution_count": null,
   "id": "70d42200-61e3-4617-ac9d-fdcef94d34bd",
   "metadata": {},
   "outputs": [],
   "source": []
  }
 ],
 "metadata": {
  "kernelspec": {
   "display_name": "Python 3 (ipykernel)",
   "language": "python",
   "name": "python3"
  },
  "language_info": {
   "codemirror_mode": {
    "name": "ipython",
    "version": 3
   },
   "file_extension": ".py",
   "mimetype": "text/x-python",
   "name": "python",
   "nbconvert_exporter": "python",
   "pygments_lexer": "ipython3",
   "version": "3.10.12"
  }
 },
 "nbformat": 4,
 "nbformat_minor": 5
}
